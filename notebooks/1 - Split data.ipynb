{
 "cells": [
  {
   "cell_type": "code",
   "execution_count": 1,
   "id": "0debd626-60f3-4c40-b154-e8e57f4695aa",
   "metadata": {},
   "outputs": [],
   "source": [
    "import pandas as pd\n",
    "import config\n",
    "\n",
    "def get_data(mode='train'):\n",
    "    if mode == 'train':\n",
    "        path = config.PATH_TO_INPUT_TRAIN\n",
    "    elif mode == 'test':\n",
    "        path = config.PATH_TO_INPUT_TEST\n",
    "    else:\n",
    "        raise NotImplemented\n",
    "        \n",
    "    df = (pd.read_csv(path)\n",
    "             .drop('Name', axis=1)\n",
    "             .drop_duplicates(subset=['HomePlanet', 'CryoSleep', 'Cabin', 'Destination', 'Age', \n",
    "                                      'VIP', 'RoomService', 'FoodCourt', 'ShoppingMall', 'Spa', \n",
    "                                      'VRDeck'] + ['Transported' if mode == 'train' else 'VRDeck'],\n",
    "                              keep='first')\n",
    "             .reset_index(drop=True)\n",
    "         )\n",
    "    # Split Cabin\n",
    "    df['CabinDeck'] = df['Cabin'].apply(lambda x: x.split('/')[0] if type(x) == str else None)\n",
    "    df['CabinNum'] = df['Cabin'].apply(lambda x: x.split('/')[1] if type(x) == str else None)\n",
    "    df['CabinSide'] = df['Cabin'].apply(lambda x: x.split('/')[2] if type(x) == str else None)\n",
    "    \n",
    "    # Drop unused columns\n",
    "    df = df.drop(['Cabin'], axis=1)\n",
    "    return df\n",
    "\n",
    "df = get_data(mode='train')"
   ]
  },
  {
   "cell_type": "code",
   "execution_count": 2,
   "id": "ab875ea7-b2ce-4bb6-8d02-e7a12719eb98",
   "metadata": {},
   "outputs": [],
   "source": [
    "# Split\n",
    "TRAIN_PERCENT = 80\n",
    "\n",
    "df['InTrain'] = df['PassengerId'].apply(lambda x: hash(x) % 100 < TRAIN_PERCENT)\n",
    "df_train = df.query('InTrain').drop('InTrain', axis=1).reset_index(drop=True)\n",
    "df_val = df.query('~InTrain').drop('InTrain', axis=1).reset_index(drop=True)"
   ]
  },
  {
   "cell_type": "code",
   "execution_count": 4,
   "id": "7bfd6043-1c4b-4e78-a265-e6d2ab417615",
   "metadata": {},
   "outputs": [
    {
     "data": {
      "text/plain": [
       "True     0.505123\n",
       "False    0.494877\n",
       "Name: Transported, dtype: float64"
      ]
     },
     "execution_count": 4,
     "metadata": {},
     "output_type": "execute_result"
    }
   ],
   "source": [
    "df_train.Transported.value_counts(1)"
   ]
  },
  {
   "cell_type": "code",
   "execution_count": 6,
   "id": "9505935f-ef4c-459e-a6a8-24fe96757844",
   "metadata": {},
   "outputs": [
    {
     "data": {
      "text/plain": [
       "False    0.506575\n",
       "True     0.493425\n",
       "Name: Transported, dtype: float64"
      ]
     },
     "execution_count": 6,
     "metadata": {},
     "output_type": "execute_result"
    }
   ],
   "source": [
    "df_val.Transported.value_counts(1)"
   ]
  },
  {
   "cell_type": "code",
   "execution_count": 3,
   "id": "5a020570-f68e-47f7-84e2-c378117fcb85",
   "metadata": {},
   "outputs": [],
   "source": [
    "# Save\n",
    "df_train.to_csv(config.PATH_TO_TRAIN_SPLIT, index=False)\n",
    "df_val.to_csv(config.PATH_TO_VAL_SPLIT, index=False)"
   ]
  },
  {
   "cell_type": "code",
   "execution_count": null,
   "id": "f6d23daa-3e89-468b-9657-f04c903d1a56",
   "metadata": {},
   "outputs": [],
   "source": []
  }
 ],
 "metadata": {
  "kernelspec": {
   "display_name": "Python 3 (ipykernel)",
   "language": "python",
   "name": "python3"
  },
  "language_info": {
   "codemirror_mode": {
    "name": "ipython",
    "version": 3
   },
   "file_extension": ".py",
   "mimetype": "text/x-python",
   "name": "python",
   "nbconvert_exporter": "python",
   "pygments_lexer": "ipython3",
   "version": "3.10.5"
  }
 },
 "nbformat": 4,
 "nbformat_minor": 5
}
